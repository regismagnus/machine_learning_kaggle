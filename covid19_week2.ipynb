{
 "cells": [
  {
   "cell_type": "code",
   "execution_count": 1,
   "metadata": {
    "_cell_guid": "b1076dfc-b9ad-4769-8c92-a6c4dae69d19",
    "_uuid": "8f2839f25d086af736a60e9eeb907d3b93b6e0e5"
   },
   "outputs": [
    {
     "name": "stdout",
     "output_type": "stream",
     "text": [
      "/kaggle/input/covid19-global-forecasting-week-2/train.csv\n",
      "/kaggle/input/covid19-global-forecasting-week-2/submission.csv\n",
      "/kaggle/input/covid19-global-forecasting-week-2/test.csv\n"
     ]
    }
   ],
   "source": [
    "# This Python 3 environment comes with many helpful analytics libraries installed\n",
    "# It is defined by the kaggle/python docker image: https://github.com/kaggle/docker-python\n",
    "# For example, here's several helpful packages to load in \n",
    "\n",
    "import numpy as np # linear algebra\n",
    "import pandas as pd # data processing, CSV file I/O (e.g. pd.read_csv)\n",
    "\n",
    "# Input data files are available in the \"../input/\" directory.\n",
    "# For example, running this (by clicking run or pressing Shift+Enter) will list all files under the input directory\n",
    "\n",
    "import os\n",
    "for dirname, _, filenames in os.walk('/kaggle/input'):\n",
    "    for filename in filenames:\n",
    "        print(os.path.join(dirname, filename))\n",
    "\n",
    "# Any results you write to the current directory are saved as output."
   ]
  },
  {
   "cell_type": "code",
   "execution_count": 2,
   "metadata": {
    "_cell_guid": "79c7e3d0-c299-4dcb-8224-4455121ee9b0",
    "_uuid": "d629ff2d2480ee46fbb7e2d37f6b5fab8052498a"
   },
   "outputs": [
    {
     "name": "stdout",
     "output_type": "stream",
     "text": [
      "Train len: 20580, Test len: 12642\n"
     ]
    }
   ],
   "source": [
    "import pandas as pd\n",
    "pd.plotting.register_matplotlib_converters()\n",
    "import matplotlib.pyplot as plt\n",
    "%matplotlib inline\n",
    "import seaborn as sns\n",
    "\n",
    "from sklearn.pipeline import Pipeline\n",
    "from sklearn.impute import SimpleImputer\n",
    "from sklearn.preprocessing import OneHotEncoder\n",
    "from sklearn.compose import ColumnTransformer\n",
    "\n",
    "from sklearn.ensemble import RandomForestRegressor\n",
    "\n",
    "path_train = '../input/covid19-global-forecasting-week-2/train.csv'\n",
    "path_test = '../input/covid19-global-forecasting-week-2/test.csv'\n",
    "\n",
    "covid_train = pd.read_csv(path_train)\n",
    "covid_test = pd.read_csv(path_test, index_col='ForecastId')\n",
    "\n",
    "print(\"Train len: %d, Test len: %d\" %(len(covid_train), len(covid_test)))"
   ]
  },
  {
   "cell_type": "code",
   "execution_count": 3,
   "metadata": {},
   "outputs": [],
   "source": [
    "def inDay(col):\n",
    "    '''get new register in day of Confirmed Cases or Fatalities'''\n",
    "    inDay=[]\n",
    "    for i in range(len(covid_train)):\n",
    "        if i==0 or covid_train['Country_Region'][i]!=covid_train['Country_Region'][i-1] or (not pd.isna(covid_train['Province_State'][i]) and not pd.isna(covid_train['Province_State'][i-1]) and covid_train['Province_State'][i]!=covid_train['Province_State'][i-1]) or pd.isna(covid_train['Province_State'][i])!=pd.isna(covid_train['Province_State'][i-1]) :\n",
    "            inDay.append(covid_train[col][i])\n",
    "        else:\n",
    "            inDay.append(covid_train[col][i]-covid_train[col][i-1])\n",
    "    return pd.DataFrame(inDay)"
   ]
  },
  {
   "cell_type": "code",
   "execution_count": 4,
   "metadata": {},
   "outputs": [],
   "source": [
    "covid_train['ConfirmedCasesInDay'] = inDay('ConfirmedCases')\n",
    "covid_train['FatalitiesInDay'] = inDay('Fatalities')"
   ]
  },
  {
   "cell_type": "code",
   "execution_count": 5,
   "metadata": {},
   "outputs": [],
   "source": [
    "covid_train['Date'] = pd.to_datetime(covid_train['Date'])"
   ]
  },
  {
   "cell_type": "code",
   "execution_count": 6,
   "metadata": {},
   "outputs": [
    {
     "data": {
      "text/html": [
       "<div>\n",
       "<style scoped>\n",
       "    .dataframe tbody tr th:only-of-type {\n",
       "        vertical-align: middle;\n",
       "    }\n",
       "\n",
       "    .dataframe tbody tr th {\n",
       "        vertical-align: top;\n",
       "    }\n",
       "\n",
       "    .dataframe thead th {\n",
       "        text-align: right;\n",
       "    }\n",
       "</style>\n",
       "<table border=\"1\" class=\"dataframe\">\n",
       "  <thead>\n",
       "    <tr style=\"text-align: right;\">\n",
       "      <th></th>\n",
       "      <th>Id</th>\n",
       "      <th>ConfirmedCases</th>\n",
       "      <th>Fatalities</th>\n",
       "      <th>ConfirmedCasesInDay</th>\n",
       "      <th>FatalitiesInDay</th>\n",
       "    </tr>\n",
       "  </thead>\n",
       "  <tbody>\n",
       "    <tr>\n",
       "      <th>count</th>\n",
       "      <td>20580.000000</td>\n",
       "      <td>20580.000000</td>\n",
       "      <td>20580.000000</td>\n",
       "      <td>20580.000000</td>\n",
       "      <td>20580.000000</td>\n",
       "    </tr>\n",
       "    <tr>\n",
       "      <th>mean</th>\n",
       "      <td>14685.500000</td>\n",
       "      <td>514.939116</td>\n",
       "      <td>21.080952</td>\n",
       "      <td>41.644752</td>\n",
       "      <td>2.045627</td>\n",
       "    </tr>\n",
       "    <tr>\n",
       "      <th>std</th>\n",
       "      <td>8487.230117</td>\n",
       "      <td>4541.261768</td>\n",
       "      <td>287.758197</td>\n",
       "      <td>362.004059</td>\n",
       "      <td>28.061109</td>\n",
       "    </tr>\n",
       "    <tr>\n",
       "      <th>min</th>\n",
       "      <td>1.000000</td>\n",
       "      <td>0.000000</td>\n",
       "      <td>0.000000</td>\n",
       "      <td>-62.000000</td>\n",
       "      <td>-5.000000</td>\n",
       "    </tr>\n",
       "    <tr>\n",
       "      <th>25%</th>\n",
       "      <td>7335.750000</td>\n",
       "      <td>0.000000</td>\n",
       "      <td>0.000000</td>\n",
       "      <td>0.000000</td>\n",
       "      <td>0.000000</td>\n",
       "    </tr>\n",
       "    <tr>\n",
       "      <th>50%</th>\n",
       "      <td>14685.500000</td>\n",
       "      <td>0.000000</td>\n",
       "      <td>0.000000</td>\n",
       "      <td>0.000000</td>\n",
       "      <td>0.000000</td>\n",
       "    </tr>\n",
       "    <tr>\n",
       "      <th>75%</th>\n",
       "      <td>22035.250000</td>\n",
       "      <td>35.000000</td>\n",
       "      <td>0.000000</td>\n",
       "      <td>1.000000</td>\n",
       "      <td>0.000000</td>\n",
       "    </tr>\n",
       "    <tr>\n",
       "      <th>max</th>\n",
       "      <td>29370.000000</td>\n",
       "      <td>105792.000000</td>\n",
       "      <td>12428.000000</td>\n",
       "      <td>14840.000000</td>\n",
       "      <td>919.000000</td>\n",
       "    </tr>\n",
       "  </tbody>\n",
       "</table>\n",
       "</div>"
      ],
      "text/plain": [
       "                 Id  ConfirmedCases    Fatalities  ConfirmedCasesInDay  \\\n",
       "count  20580.000000    20580.000000  20580.000000         20580.000000   \n",
       "mean   14685.500000      514.939116     21.080952            41.644752   \n",
       "std     8487.230117     4541.261768    287.758197           362.004059   \n",
       "min        1.000000        0.000000      0.000000           -62.000000   \n",
       "25%     7335.750000        0.000000      0.000000             0.000000   \n",
       "50%    14685.500000        0.000000      0.000000             0.000000   \n",
       "75%    22035.250000       35.000000      0.000000             1.000000   \n",
       "max    29370.000000   105792.000000  12428.000000         14840.000000   \n",
       "\n",
       "       FatalitiesInDay  \n",
       "count     20580.000000  \n",
       "mean          2.045627  \n",
       "std          28.061109  \n",
       "min          -5.000000  \n",
       "25%           0.000000  \n",
       "50%           0.000000  \n",
       "75%           0.000000  \n",
       "max         919.000000  "
      ]
     },
     "execution_count": 6,
     "metadata": {},
     "output_type": "execute_result"
    }
   ],
   "source": [
    "covid_train.describe()"
   ]
  },
  {
   "cell_type": "markdown",
   "metadata": {},
   "source": [
    "Have some Confirmed Cases and Fatilities with the wrong register, that cause 'InDay' less than zero"
   ]
  },
  {
   "cell_type": "code",
   "execution_count": 7,
   "metadata": {},
   "outputs": [
    {
     "data": {
      "text/html": [
       "<div>\n",
       "<style scoped>\n",
       "    .dataframe tbody tr th:only-of-type {\n",
       "        vertical-align: middle;\n",
       "    }\n",
       "\n",
       "    .dataframe tbody tr th {\n",
       "        vertical-align: top;\n",
       "    }\n",
       "\n",
       "    .dataframe thead th {\n",
       "        text-align: right;\n",
       "    }\n",
       "</style>\n",
       "<table border=\"1\" class=\"dataframe\">\n",
       "  <thead>\n",
       "    <tr style=\"text-align: right;\">\n",
       "      <th></th>\n",
       "      <th>Id</th>\n",
       "      <th>Province_State</th>\n",
       "      <th>Country_Region</th>\n",
       "      <th>Date</th>\n",
       "      <th>ConfirmedCases</th>\n",
       "      <th>Fatalities</th>\n",
       "      <th>ConfirmedCasesInDay</th>\n",
       "      <th>FatalitiesInDay</th>\n",
       "    </tr>\n",
       "  </thead>\n",
       "  <tbody>\n",
       "    <tr>\n",
       "      <th>3140</th>\n",
       "      <td>4461</td>\n",
       "      <td>Quebec</td>\n",
       "      <td>Canada</td>\n",
       "      <td>2020-03-22</td>\n",
       "      <td>219.0</td>\n",
       "      <td>4.0</td>\n",
       "      <td>38.0</td>\n",
       "      <td>-1.0</td>\n",
       "    </tr>\n",
       "    <tr>\n",
       "      <th>9364</th>\n",
       "      <td>13355</td>\n",
       "      <td>NaN</td>\n",
       "      <td>Iceland</td>\n",
       "      <td>2020-03-16</td>\n",
       "      <td>180.0</td>\n",
       "      <td>0.0</td>\n",
       "      <td>9.0</td>\n",
       "      <td>-5.0</td>\n",
       "    </tr>\n",
       "    <tr>\n",
       "      <th>9368</th>\n",
       "      <td>13359</td>\n",
       "      <td>NaN</td>\n",
       "      <td>Iceland</td>\n",
       "      <td>2020-03-20</td>\n",
       "      <td>409.0</td>\n",
       "      <td>0.0</td>\n",
       "      <td>79.0</td>\n",
       "      <td>-1.0</td>\n",
       "    </tr>\n",
       "    <tr>\n",
       "      <th>9439</th>\n",
       "      <td>13460</td>\n",
       "      <td>NaN</td>\n",
       "      <td>India</td>\n",
       "      <td>2020-03-21</td>\n",
       "      <td>330.0</td>\n",
       "      <td>4.0</td>\n",
       "      <td>86.0</td>\n",
       "      <td>-1.0</td>\n",
       "    </tr>\n",
       "    <tr>\n",
       "      <th>10139</th>\n",
       "      <td>14460</td>\n",
       "      <td>NaN</td>\n",
       "      <td>Kazakhstan</td>\n",
       "      <td>2020-03-21</td>\n",
       "      <td>53.0</td>\n",
       "      <td>0.0</td>\n",
       "      <td>4.0</td>\n",
       "      <td>-3.0</td>\n",
       "    </tr>\n",
       "  </tbody>\n",
       "</table>\n",
       "</div>"
      ],
      "text/plain": [
       "          Id Province_State Country_Region       Date  ConfirmedCases  \\\n",
       "3140    4461         Quebec         Canada 2020-03-22           219.0   \n",
       "9364   13355            NaN        Iceland 2020-03-16           180.0   \n",
       "9368   13359            NaN        Iceland 2020-03-20           409.0   \n",
       "9439   13460            NaN          India 2020-03-21           330.0   \n",
       "10139  14460            NaN     Kazakhstan 2020-03-21            53.0   \n",
       "\n",
       "       Fatalities  ConfirmedCasesInDay  FatalitiesInDay  \n",
       "3140          4.0                 38.0             -1.0  \n",
       "9364          0.0                  9.0             -5.0  \n",
       "9368          0.0                 79.0             -1.0  \n",
       "9439          4.0                 86.0             -1.0  \n",
       "10139         0.0                  4.0             -3.0  "
      ]
     },
     "execution_count": 7,
     "metadata": {},
     "output_type": "execute_result"
    }
   ],
   "source": [
    "covid_train[covid_train['FatalitiesInDay']<0].head()"
   ]
  },
  {
   "cell_type": "code",
   "execution_count": 8,
   "metadata": {},
   "outputs": [
    {
     "data": {
      "text/plain": [
       "<matplotlib.axes._subplots.AxesSubplot at 0x7f94cade0208>"
      ]
     },
     "execution_count": 8,
     "metadata": {},
     "output_type": "execute_result"
    },
    {
     "data": {
      "image/png": "[encoded data removed]",
      "text/plain": [
       "<Figure size 1008x432 with 1 Axes>"
      ]
     },
     "metadata": {
      "needs_background": "light"
     },
     "output_type": "display_data"
    }
   ],
   "source": [
    "plt.figure(figsize=(14,6))\n",
    "plt.title('Confirmed Cases timeline')\n",
    "sns.lineplot(y=covid_train['ConfirmedCases'], x=covid_train['Date'])"
   ]
  },
  {
   "cell_type": "code",
   "execution_count": 9,
   "metadata": {},
   "outputs": [
    {
     "data": {
      "text/plain": [
       "<matplotlib.axes._subplots.AxesSubplot at 0x7f94aeae7c50>"
      ]
     },
     "execution_count": 9,
     "metadata": {},
     "output_type": "execute_result"
    },
    {
     "data": {
      "image/png": "[encoded data removed]",
      "text/plain": [
       "<Figure size 1008x432 with 1 Axes>"
      ]
     },
     "metadata": {
      "needs_background": "light"
     },
     "output_type": "display_data"
    }
   ],
   "source": [
    "plt.figure(figsize=(14,6))\n",
    "plt.title('Fatalities timeline')\n",
    "sns.lineplot(y=covid_train['Fatalities'], x=covid_train['Date'])"
   ]
  },
  {
   "cell_type": "code",
   "execution_count": 10,
   "metadata": {},
   "outputs": [
    {
     "data": {
      "text/plain": [
       "<matplotlib.axes._subplots.AxesSubplot at 0x7f94aea75400>"
      ]
     },
     "execution_count": 10,
     "metadata": {},
     "output_type": "execute_result"
    },
    {
     "data": {
      "image/png": "[encoded data removed]",
      "text/plain": [
       "<Figure size 1008x432 with 2 Axes>"
      ]
     },
     "metadata": {
      "needs_background": "light"
     },
     "output_type": "display_data"
    }
   ],
   "source": [
    "plt.figure(figsize=(14,6))\n",
    "plt.title('Compare Confirmed Cases and Fatalities in day')\n",
    "pl = sns.lineplot(y=covid_train['ConfirmedCases'], x=covid_train['Date'])\n",
    "pl2 = pl.twinx()\n",
    "sns.lineplot(y=covid_train['FatalitiesInDay'], x=covid_train['Date'], ax=pl2, color=\"r\")"
   ]
  },
  {
   "cell_type": "code",
   "execution_count": 11,
   "metadata": {},
   "outputs": [
    {
     "data": {
      "text/plain": [
       "<matplotlib.axes._subplots.AxesSubplot at 0x7f94aea1b400>"
      ]
     },
     "execution_count": 11,
     "metadata": {},
     "output_type": "execute_result"
    },
    {
     "data": {
      "image/png": "[encoded data removed]",
      "text/plain": [
       "<Figure size 1008x432 with 1 Axes>"
      ]
     },
     "metadata": {
      "needs_background": "light"
     },
     "output_type": "display_data"
    }
   ],
   "source": [
    "plt.figure(figsize=(14,6))\n",
    "plt.title('Fatalities in Day')\n",
    "sns.lineplot(y=covid_train['FatalitiesInDay'], x=covid_train['Date'])"
   ]
  },
  {
   "cell_type": "code",
   "execution_count": 12,
   "metadata": {},
   "outputs": [
    {
     "data": {
      "text/plain": [
       "<matplotlib.axes._subplots.AxesSubplot at 0x7f94ae9cfbe0>"
      ]
     },
     "execution_count": 12,
     "metadata": {},
     "output_type": "execute_result"
    },
    {
     "data": {
      "image/png": "[encoded data removed]",
      "text/plain": [
       "<Figure size 1008x432 with 1 Axes>"
      ]
     },
     "metadata": {
      "needs_background": "light"
     },
     "output_type": "display_data"
    }
   ],
   "source": [
    "plt.figure(figsize=(14,6))\n",
    "plt.title('Confirmed Cases in Day')\n",
    "sns.lineplot(y=covid_train['ConfirmedCasesInDay'], x=covid_train['Date'])"
   ]
  },
  {
   "cell_type": "markdown",
   "metadata": {},
   "source": [
    "# Analyze Occurence per Country"
   ]
  },
  {
   "cell_type": "code",
   "execution_count": 13,
   "metadata": {},
   "outputs": [],
   "source": [
    "'''\n",
    "Create new database merge data by Country_Region\n",
    "'''\n",
    "occurence_per_country=[]\n",
    "for country in covid_train['Country_Region'].unique():\n",
    "    country_data = covid_train[covid_train['Country_Region']==country]\n",
    "    register_date = country_data[country_data['ConfirmedCases']>0]\n",
    "    if len(register_date)>0:\n",
    "        date_cc = register_date.iloc[0]['Date']\n",
    "    else:\n",
    "        data_cc = np.nan\n",
    "        \n",
    "    register_date = country_data[country_data['Fatalities']>0]\n",
    "    if len(register_date):\n",
    "        date_ft = register_date.iloc[0]['Date']\n",
    "    else:\n",
    "        date_ft = np.nan\n",
    "    #get all max of province state and sum to have the total in country\n",
    "    max_cc=0\n",
    "    max_ft=0\n",
    "    for province_state in country_data['Province_State'].unique():\n",
    "        if not pd.isna(province_state):\n",
    "            province_state_data=country_data[country_data['Province_State']==province_state]\n",
    "        else:\n",
    "            province_state_data=country_data[pd.isna(country_data['Province_State'])]\n",
    "        max_cc+=max(province_state_data['ConfirmedCases'])\n",
    "        max_ft+=max(province_state_data['Fatalities'])\n",
    "            \n",
    "    country_data_new = [country,\n",
    "                        date_cc, date_ft,\n",
    "                        max_cc, max_ft, \n",
    "                        max(country_data['ConfirmedCasesInDay']), max(country_data['FatalitiesInDay'])]\n",
    "    occurence_per_country.append(country_data_new)\n",
    "occurence_per_country = pd.DataFrame(occurence_per_country)"
   ]
  },
  {
   "cell_type": "code",
   "execution_count": 14,
   "metadata": {},
   "outputs": [],
   "source": [
    "occurence_per_country.columns = ['Country_Region', 'FirstRegisterConfirmedCase', 'FirstRegisterFatalities',\n",
    "                                'ConfirmedCasesMax', 'FatalitiesMax', 'ConfirmedCasesInDayMax', 'FatalitiesInDayMax']"
   ]
  },
  {
   "cell_type": "code",
   "execution_count": 15,
   "metadata": {},
   "outputs": [
    {
     "data": {
      "text/html": [
       "<div>\n",
       "<style scoped>\n",
       "    .dataframe tbody tr th:only-of-type {\n",
       "        vertical-align: middle;\n",
       "    }\n",
       "\n",
       "    .dataframe tbody tr th {\n",
       "        vertical-align: top;\n",
       "    }\n",
       "\n",
       "    .dataframe thead th {\n",
       "        text-align: right;\n",
       "    }\n",
       "</style>\n",
       "<table border=\"1\" class=\"dataframe\">\n",
       "  <thead>\n",
       "    <tr style=\"text-align: right;\">\n",
       "      <th></th>\n",
       "      <th>Country_Region</th>\n",
       "      <th>FirstRegisterConfirmedCase</th>\n",
       "      <th>FirstRegisterFatalities</th>\n",
       "      <th>ConfirmedCasesMax</th>\n",
       "      <th>FatalitiesMax</th>\n",
       "      <th>ConfirmedCasesInDayMax</th>\n",
       "      <th>FatalitiesInDayMax</th>\n",
       "    </tr>\n",
       "  </thead>\n",
       "  <tbody>\n",
       "    <tr>\n",
       "      <th>0</th>\n",
       "      <td>Afghanistan</td>\n",
       "      <td>2020-02-24</td>\n",
       "      <td>2020-03-22</td>\n",
       "      <td>174.0</td>\n",
       "      <td>4.0</td>\n",
       "      <td>50.0</td>\n",
       "      <td>2.0</td>\n",
       "    </tr>\n",
       "    <tr>\n",
       "      <th>1</th>\n",
       "      <td>Albania</td>\n",
       "      <td>2020-03-09</td>\n",
       "      <td>2020-03-11</td>\n",
       "      <td>243.0</td>\n",
       "      <td>15.0</td>\n",
       "      <td>28.0</td>\n",
       "      <td>4.0</td>\n",
       "    </tr>\n",
       "    <tr>\n",
       "      <th>2</th>\n",
       "      <td>Algeria</td>\n",
       "      <td>2020-02-25</td>\n",
       "      <td>2020-03-12</td>\n",
       "      <td>716.0</td>\n",
       "      <td>44.0</td>\n",
       "      <td>132.0</td>\n",
       "      <td>9.0</td>\n",
       "    </tr>\n",
       "    <tr>\n",
       "      <th>3</th>\n",
       "      <td>Andorra</td>\n",
       "      <td>2020-03-02</td>\n",
       "      <td>2020-03-22</td>\n",
       "      <td>376.0</td>\n",
       "      <td>12.0</td>\n",
       "      <td>43.0</td>\n",
       "      <td>4.0</td>\n",
       "    </tr>\n",
       "    <tr>\n",
       "      <th>4</th>\n",
       "      <td>Angola</td>\n",
       "      <td>2020-03-20</td>\n",
       "      <td>2020-03-29</td>\n",
       "      <td>7.0</td>\n",
       "      <td>2.0</td>\n",
       "      <td>2.0</td>\n",
       "      <td>2.0</td>\n",
       "    </tr>\n",
       "  </tbody>\n",
       "</table>\n",
       "</div>"
      ],
      "text/plain": [
       "  Country_Region FirstRegisterConfirmedCase FirstRegisterFatalities  \\\n",
       "0    Afghanistan                 2020-02-24              2020-03-22   \n",
       "1        Albania                 2020-03-09              2020-03-11   \n",
       "2        Algeria                 2020-02-25              2020-03-12   \n",
       "3        Andorra                 2020-03-02              2020-03-22   \n",
       "4         Angola                 2020-03-20              2020-03-29   \n",
       "\n",
       "   ConfirmedCasesMax  FatalitiesMax  ConfirmedCasesInDayMax  \\\n",
       "0              174.0            4.0                    50.0   \n",
       "1              243.0           15.0                    28.0   \n",
       "2              716.0           44.0                   132.0   \n",
       "3              376.0           12.0                    43.0   \n",
       "4                7.0            2.0                     2.0   \n",
       "\n",
       "   FatalitiesInDayMax  \n",
       "0                 2.0  \n",
       "1                 4.0  \n",
       "2                 9.0  \n",
       "3                 4.0  \n",
       "4                 2.0  "
      ]
     },
     "execution_count": 15,
     "metadata": {},
     "output_type": "execute_result"
    }
   ],
   "source": [
    "occurence_per_country.head()"
   ]
  },
  {
   "cell_type": "code",
   "execution_count": 16,
   "metadata": {},
   "outputs": [
    {
     "data": {
      "text/html": [
       "<div>\n",
       "<style scoped>\n",
       "    .dataframe tbody tr th:only-of-type {\n",
       "        vertical-align: middle;\n",
       "    }\n",
       "\n",
       "    .dataframe tbody tr th {\n",
       "        vertical-align: top;\n",
       "    }\n",
       "\n",
       "    .dataframe thead th {\n",
       "        text-align: right;\n",
       "    }\n",
       "</style>\n",
       "<table border=\"1\" class=\"dataframe\">\n",
       "  <thead>\n",
       "    <tr style=\"text-align: right;\">\n",
       "      <th></th>\n",
       "      <th>ConfirmedCasesMax</th>\n",
       "      <th>FatalitiesMax</th>\n",
       "      <th>ConfirmedCasesInDayMax</th>\n",
       "      <th>FatalitiesInDayMax</th>\n",
       "    </tr>\n",
       "  </thead>\n",
       "  <tbody>\n",
       "    <tr>\n",
       "      <th>count</th>\n",
       "      <td>173.000000</td>\n",
       "      <td>173.000000</td>\n",
       "      <td>173.000000</td>\n",
       "      <td>173.000000</td>\n",
       "    </tr>\n",
       "    <tr>\n",
       "      <th>mean</th>\n",
       "      <td>4954.092486</td>\n",
       "      <td>243.381503</td>\n",
       "      <td>494.809249</td>\n",
       "      <td>26.716763</td>\n",
       "    </tr>\n",
       "    <tr>\n",
       "      <th>std</th>\n",
       "      <td>20203.173477</td>\n",
       "      <td>1249.458913</td>\n",
       "      <td>1780.803197</td>\n",
       "      <td>114.171004</td>\n",
       "    </tr>\n",
       "    <tr>\n",
       "      <th>min</th>\n",
       "      <td>1.000000</td>\n",
       "      <td>0.000000</td>\n",
       "      <td>1.000000</td>\n",
       "      <td>0.000000</td>\n",
       "    </tr>\n",
       "    <tr>\n",
       "      <th>25%</th>\n",
       "      <td>20.000000</td>\n",
       "      <td>0.000000</td>\n",
       "      <td>6.000000</td>\n",
       "      <td>0.000000</td>\n",
       "    </tr>\n",
       "    <tr>\n",
       "      <th>50%</th>\n",
       "      <td>212.000000</td>\n",
       "      <td>3.000000</td>\n",
       "      <td>39.000000</td>\n",
       "      <td>2.000000</td>\n",
       "    </tr>\n",
       "    <tr>\n",
       "      <th>75%</th>\n",
       "      <td>1109.000000</td>\n",
       "      <td>20.000000</td>\n",
       "      <td>181.000000</td>\n",
       "      <td>6.000000</td>\n",
       "    </tr>\n",
       "    <tr>\n",
       "      <th>max</th>\n",
       "      <td>188018.000000</td>\n",
       "      <td>12428.000000</td>\n",
       "      <td>14840.000000</td>\n",
       "      <td>919.000000</td>\n",
       "    </tr>\n",
       "  </tbody>\n",
       "</table>\n",
       "</div>"
      ],
      "text/plain": [
       "       ConfirmedCasesMax  FatalitiesMax  ConfirmedCasesInDayMax  \\\n",
       "count         173.000000     173.000000              173.000000   \n",
       "mean         4954.092486     243.381503              494.809249   \n",
       "std         20203.173477    1249.458913             1780.803197   \n",
       "min             1.000000       0.000000                1.000000   \n",
       "25%            20.000000       0.000000                6.000000   \n",
       "50%           212.000000       3.000000               39.000000   \n",
       "75%          1109.000000      20.000000              181.000000   \n",
       "max        188018.000000   12428.000000            14840.000000   \n",
       "\n",
       "       FatalitiesInDayMax  \n",
       "count          173.000000  \n",
       "mean            26.716763  \n",
       "std            114.171004  \n",
       "min              0.000000  \n",
       "25%              0.000000  \n",
       "50%              2.000000  \n",
       "75%              6.000000  \n",
       "max            919.000000  "
      ]
     },
     "execution_count": 16,
     "metadata": {},
     "output_type": "execute_result"
    }
   ],
   "source": [
    "occurence_per_country.describe()"
   ]
  },
  {
   "cell_type": "markdown",
   "metadata": {},
   "source": [
    "The countries with the biggest number of Fatalities:"
   ]
  },
  {
   "cell_type": "code",
   "execution_count": 17,
   "metadata": {},
   "outputs": [
    {
     "data": {
      "text/html": [
       "<div>\n",
       "<style scoped>\n",
       "    .dataframe tbody tr th:only-of-type {\n",
       "        vertical-align: middle;\n",
       "    }\n",
       "\n",
       "    .dataframe tbody tr th {\n",
       "        vertical-align: top;\n",
       "    }\n",
       "\n",
       "    .dataframe thead th {\n",
       "        text-align: right;\n",
       "    }\n",
       "</style>\n",
       "<table border=\"1\" class=\"dataframe\">\n",
       "  <thead>\n",
       "    <tr style=\"text-align: right;\">\n",
       "      <th></th>\n",
       "      <th>Country_Region</th>\n",
       "      <th>FirstRegisterConfirmedCase</th>\n",
       "      <th>FirstRegisterFatalities</th>\n",
       "      <th>ConfirmedCasesMax</th>\n",
       "      <th>FatalitiesMax</th>\n",
       "      <th>ConfirmedCasesInDayMax</th>\n",
       "      <th>FatalitiesInDayMax</th>\n",
       "    </tr>\n",
       "  </thead>\n",
       "  <tbody>\n",
       "    <tr>\n",
       "      <th>81</th>\n",
       "      <td>Italy</td>\n",
       "      <td>2020-01-31</td>\n",
       "      <td>2020-02-21</td>\n",
       "      <td>105792.0</td>\n",
       "      <td>12428.0</td>\n",
       "      <td>6557.0</td>\n",
       "      <td>919.0</td>\n",
       "    </tr>\n",
       "  </tbody>\n",
       "</table>\n",
       "</div>"
      ],
      "text/plain": [
       "   Country_Region FirstRegisterConfirmedCase FirstRegisterFatalities  \\\n",
       "81          Italy                 2020-01-31              2020-02-21   \n",
       "\n",
       "    ConfirmedCasesMax  FatalitiesMax  ConfirmedCasesInDayMax  \\\n",
       "81           105792.0        12428.0                  6557.0   \n",
       "\n",
       "    FatalitiesInDayMax  \n",
       "81               919.0  "
      ]
     },
     "execution_count": 17,
     "metadata": {},
     "output_type": "execute_result"
    }
   ],
   "source": [
    "occurence_per_country[occurence_per_country['FatalitiesMax']==max(occurence_per_country['FatalitiesMax'])]"
   ]
  },
  {
   "cell_type": "markdown",
   "metadata": {},
   "source": [
    "5 countries whith less Fatalities"
   ]
  },
  {
   "cell_type": "code",
   "execution_count": 18,
   "metadata": {},
   "outputs": [
    {
     "data": {
      "text/html": [
       "<div>\n",
       "<style scoped>\n",
       "    .dataframe tbody tr th:only-of-type {\n",
       "        vertical-align: middle;\n",
       "    }\n",
       "\n",
       "    .dataframe tbody tr th {\n",
       "        vertical-align: top;\n",
       "    }\n",
       "\n",
       "    .dataframe thead th {\n",
       "        text-align: right;\n",
       "    }\n",
       "</style>\n",
       "<table border=\"1\" class=\"dataframe\">\n",
       "  <thead>\n",
       "    <tr style=\"text-align: right;\">\n",
       "      <th></th>\n",
       "      <th>Country_Region</th>\n",
       "      <th>FirstRegisterConfirmedCase</th>\n",
       "      <th>FirstRegisterFatalities</th>\n",
       "      <th>ConfirmedCasesMax</th>\n",
       "      <th>FatalitiesMax</th>\n",
       "      <th>ConfirmedCasesInDayMax</th>\n",
       "      <th>FatalitiesInDayMax</th>\n",
       "    </tr>\n",
       "  </thead>\n",
       "  <tbody>\n",
       "    <tr>\n",
       "      <th>5</th>\n",
       "      <td>Antigua and Barbuda</td>\n",
       "      <td>2020-03-13</td>\n",
       "      <td>NaT</td>\n",
       "      <td>7.0</td>\n",
       "      <td>0.0</td>\n",
       "      <td>4.0</td>\n",
       "      <td>0.0</td>\n",
       "    </tr>\n",
       "    <tr>\n",
       "      <th>11</th>\n",
       "      <td>Bahamas</td>\n",
       "      <td>2020-03-16</td>\n",
       "      <td>NaT</td>\n",
       "      <td>14.0</td>\n",
       "      <td>0.0</td>\n",
       "      <td>4.0</td>\n",
       "      <td>0.0</td>\n",
       "    </tr>\n",
       "    <tr>\n",
       "      <th>14</th>\n",
       "      <td>Barbados</td>\n",
       "      <td>2020-03-17</td>\n",
       "      <td>NaT</td>\n",
       "      <td>34.0</td>\n",
       "      <td>0.0</td>\n",
       "      <td>8.0</td>\n",
       "      <td>0.0</td>\n",
       "    </tr>\n",
       "    <tr>\n",
       "      <th>17</th>\n",
       "      <td>Belize</td>\n",
       "      <td>2020-03-23</td>\n",
       "      <td>NaT</td>\n",
       "      <td>3.0</td>\n",
       "      <td>0.0</td>\n",
       "      <td>1.0</td>\n",
       "      <td>0.0</td>\n",
       "    </tr>\n",
       "    <tr>\n",
       "      <th>18</th>\n",
       "      <td>Benin</td>\n",
       "      <td>2020-03-16</td>\n",
       "      <td>NaT</td>\n",
       "      <td>9.0</td>\n",
       "      <td>0.0</td>\n",
       "      <td>3.0</td>\n",
       "      <td>0.0</td>\n",
       "    </tr>\n",
       "  </tbody>\n",
       "</table>\n",
       "</div>"
      ],
      "text/plain": [
       "         Country_Region FirstRegisterConfirmedCase FirstRegisterFatalities  \\\n",
       "5   Antigua and Barbuda                 2020-03-13                     NaT   \n",
       "11              Bahamas                 2020-03-16                     NaT   \n",
       "14             Barbados                 2020-03-17                     NaT   \n",
       "17               Belize                 2020-03-23                     NaT   \n",
       "18                Benin                 2020-03-16                     NaT   \n",
       "\n",
       "    ConfirmedCasesMax  FatalitiesMax  ConfirmedCasesInDayMax  \\\n",
       "5                 7.0            0.0                     4.0   \n",
       "11               14.0            0.0                     4.0   \n",
       "14               34.0            0.0                     8.0   \n",
       "17                3.0            0.0                     1.0   \n",
       "18                9.0            0.0                     3.0   \n",
       "\n",
       "    FatalitiesInDayMax  \n",
       "5                  0.0  \n",
       "11                 0.0  \n",
       "14                 0.0  \n",
       "17                 0.0  \n",
       "18                 0.0  "
      ]
     },
     "execution_count": 18,
     "metadata": {},
     "output_type": "execute_result"
    }
   ],
   "source": [
    "occurence_per_country[occurence_per_country['FatalitiesMax']==min(occurence_per_country['FatalitiesMax'])].head()"
   ]
  },
  {
   "cell_type": "markdown",
   "metadata": {},
   "source": [
    "# Top 10 countries with more Fatalities"
   ]
  },
  {
   "cell_type": "code",
   "execution_count": 19,
   "metadata": {},
   "outputs": [],
   "source": [
    "largest_fatalities = occurence_per_country.nlargest(10, 'FatalitiesMax')"
   ]
  },
  {
   "cell_type": "code",
   "execution_count": 20,
   "metadata": {},
   "outputs": [
    {
     "data": {
      "text/html": [
       "<div>\n",
       "<style scoped>\n",
       "    .dataframe tbody tr th:only-of-type {\n",
       "        vertical-align: middle;\n",
       "    }\n",
       "\n",
       "    .dataframe tbody tr th {\n",
       "        vertical-align: top;\n",
       "    }\n",
       "\n",
       "    .dataframe thead th {\n",
       "        text-align: right;\n",
       "    }\n",
       "</style>\n",
       "<table border=\"1\" class=\"dataframe\">\n",
       "  <thead>\n",
       "    <tr style=\"text-align: right;\">\n",
       "      <th></th>\n",
       "      <th>Country_Region</th>\n",
       "      <th>FirstRegisterConfirmedCase</th>\n",
       "      <th>FirstRegisterFatalities</th>\n",
       "      <th>ConfirmedCasesMax</th>\n",
       "      <th>FatalitiesMax</th>\n",
       "      <th>ConfirmedCasesInDayMax</th>\n",
       "      <th>FatalitiesInDayMax</th>\n",
       "    </tr>\n",
       "  </thead>\n",
       "  <tbody>\n",
       "    <tr>\n",
       "      <th>81</th>\n",
       "      <td>Italy</td>\n",
       "      <td>2020-01-31</td>\n",
       "      <td>2020-02-21</td>\n",
       "      <td>105792.0</td>\n",
       "      <td>12428.0</td>\n",
       "      <td>6557.0</td>\n",
       "      <td>919.0</td>\n",
       "    </tr>\n",
       "    <tr>\n",
       "      <th>147</th>\n",
       "      <td>Spain</td>\n",
       "      <td>2020-02-01</td>\n",
       "      <td>2020-03-03</td>\n",
       "      <td>95923.0</td>\n",
       "      <td>8464.0</td>\n",
       "      <td>9630.0</td>\n",
       "      <td>913.0</td>\n",
       "    </tr>\n",
       "    <tr>\n",
       "      <th>162</th>\n",
       "      <td>US</td>\n",
       "      <td>2020-03-13</td>\n",
       "      <td>2020-03-25</td>\n",
       "      <td>188018.0</td>\n",
       "      <td>3871.0</td>\n",
       "      <td>9170.0</td>\n",
       "      <td>332.0</td>\n",
       "    </tr>\n",
       "    <tr>\n",
       "      <th>58</th>\n",
       "      <td>France</td>\n",
       "      <td>2020-03-07</td>\n",
       "      <td>2020-03-22</td>\n",
       "      <td>52827.0</td>\n",
       "      <td>3532.0</td>\n",
       "      <td>7578.0</td>\n",
       "      <td>499.0</td>\n",
       "    </tr>\n",
       "    <tr>\n",
       "      <th>33</th>\n",
       "      <td>China</td>\n",
       "      <td>2020-01-22</td>\n",
       "      <td>2020-02-09</td>\n",
       "      <td>82280.0</td>\n",
       "      <td>3309.0</td>\n",
       "      <td>14840.0</td>\n",
       "      <td>242.0</td>\n",
       "    </tr>\n",
       "  </tbody>\n",
       "</table>\n",
       "</div>"
      ],
      "text/plain": [
       "    Country_Region FirstRegisterConfirmedCase FirstRegisterFatalities  \\\n",
       "81           Italy                 2020-01-31              2020-02-21   \n",
       "147          Spain                 2020-02-01              2020-03-03   \n",
       "162             US                 2020-03-13              2020-03-25   \n",
       "58          France                 2020-03-07              2020-03-22   \n",
       "33           China                 2020-01-22              2020-02-09   \n",
       "\n",
       "     ConfirmedCasesMax  FatalitiesMax  ConfirmedCasesInDayMax  \\\n",
       "81            105792.0        12428.0                  6557.0   \n",
       "147            95923.0         8464.0                  9630.0   \n",
       "162           188018.0         3871.0                  9170.0   \n",
       "58             52827.0         3532.0                  7578.0   \n",
       "33             82280.0         3309.0                 14840.0   \n",
       "\n",
       "     FatalitiesInDayMax  \n",
       "81                919.0  \n",
       "147               913.0  \n",
       "162               332.0  \n",
       "58                499.0  \n",
       "33                242.0  "
      ]
     },
     "execution_count": 20,
     "metadata": {},
     "output_type": "execute_result"
    }
   ],
   "source": [
    "largest_fatalities.head()"
   ]
  },
  {
   "cell_type": "code",
   "execution_count": 21,
   "metadata": {},
   "outputs": [
    {
     "data": {
      "text/plain": [
       "<matplotlib.axes._subplots.AxesSubplot at 0x7f94ae954128>"
      ]
     },
     "execution_count": 21,
     "metadata": {},
     "output_type": "execute_result"
    },
    {
     "data": {
      "image/png": "[encoded data removed]",
      "text/plain": [
       "<Figure size 1008x432 with 1 Axes>"
      ]
     },
     "metadata": {
      "needs_background": "light"
     },
     "output_type": "display_data"
    }
   ],
   "source": [
    "plt.figure(figsize=(14,6))\n",
    "plt.title('Top 10 Countries with more Fatalities')\n",
    "sns.barplot(y=largest_fatalities['FatalitiesMax'], x=largest_fatalities['Country_Region'])"
   ]
  },
  {
   "cell_type": "markdown",
   "metadata": {},
   "source": [
    "# Top 10 countries with more Confirmed Cases"
   ]
  },
  {
   "cell_type": "code",
   "execution_count": 22,
   "metadata": {},
   "outputs": [],
   "source": [
    "largest_confirmed_cases = occurence_per_country.nlargest(10, 'ConfirmedCasesMax')"
   ]
  },
  {
   "cell_type": "code",
   "execution_count": 23,
   "metadata": {},
   "outputs": [
    {
     "data": {
      "text/html": [
       "<div>\n",
       "<style scoped>\n",
       "    .dataframe tbody tr th:only-of-type {\n",
       "        vertical-align: middle;\n",
       "    }\n",
       "\n",
       "    .dataframe tbody tr th {\n",
       "        vertical-align: top;\n",
       "    }\n",
       "\n",
       "    .dataframe thead th {\n",
       "        text-align: right;\n",
       "    }\n",
       "</style>\n",
       "<table border=\"1\" class=\"dataframe\">\n",
       "  <thead>\n",
       "    <tr style=\"text-align: right;\">\n",
       "      <th></th>\n",
       "      <th>Country_Region</th>\n",
       "      <th>FirstRegisterConfirmedCase</th>\n",
       "      <th>FirstRegisterFatalities</th>\n",
       "      <th>ConfirmedCasesMax</th>\n",
       "      <th>FatalitiesMax</th>\n",
       "      <th>ConfirmedCasesInDayMax</th>\n",
       "      <th>FatalitiesInDayMax</th>\n",
       "    </tr>\n",
       "  </thead>\n",
       "  <tbody>\n",
       "    <tr>\n",
       "      <th>162</th>\n",
       "      <td>US</td>\n",
       "      <td>2020-03-13</td>\n",
       "      <td>2020-03-25</td>\n",
       "      <td>188018.0</td>\n",
       "      <td>3871.0</td>\n",
       "      <td>9170.0</td>\n",
       "      <td>332.0</td>\n",
       "    </tr>\n",
       "    <tr>\n",
       "      <th>81</th>\n",
       "      <td>Italy</td>\n",
       "      <td>2020-01-31</td>\n",
       "      <td>2020-02-21</td>\n",
       "      <td>105792.0</td>\n",
       "      <td>12428.0</td>\n",
       "      <td>6557.0</td>\n",
       "      <td>919.0</td>\n",
       "    </tr>\n",
       "    <tr>\n",
       "      <th>147</th>\n",
       "      <td>Spain</td>\n",
       "      <td>2020-02-01</td>\n",
       "      <td>2020-03-03</td>\n",
       "      <td>95923.0</td>\n",
       "      <td>8464.0</td>\n",
       "      <td>9630.0</td>\n",
       "      <td>913.0</td>\n",
       "    </tr>\n",
       "    <tr>\n",
       "      <th>33</th>\n",
       "      <td>China</td>\n",
       "      <td>2020-01-22</td>\n",
       "      <td>2020-02-09</td>\n",
       "      <td>82280.0</td>\n",
       "      <td>3309.0</td>\n",
       "      <td>14840.0</td>\n",
       "      <td>242.0</td>\n",
       "    </tr>\n",
       "    <tr>\n",
       "      <th>62</th>\n",
       "      <td>Germany</td>\n",
       "      <td>2020-01-27</td>\n",
       "      <td>2020-03-09</td>\n",
       "      <td>71808.0</td>\n",
       "      <td>775.0</td>\n",
       "      <td>6933.0</td>\n",
       "      <td>130.0</td>\n",
       "    </tr>\n",
       "  </tbody>\n",
       "</table>\n",
       "</div>"
      ],
      "text/plain": [
       "    Country_Region FirstRegisterConfirmedCase FirstRegisterFatalities  \\\n",
       "162             US                 2020-03-13              2020-03-25   \n",
       "81           Italy                 2020-01-31              2020-02-21   \n",
       "147          Spain                 2020-02-01              2020-03-03   \n",
       "33           China                 2020-01-22              2020-02-09   \n",
       "62         Germany                 2020-01-27              2020-03-09   \n",
       "\n",
       "     ConfirmedCasesMax  FatalitiesMax  ConfirmedCasesInDayMax  \\\n",
       "162           188018.0         3871.0                  9170.0   \n",
       "81            105792.0        12428.0                  6557.0   \n",
       "147            95923.0         8464.0                  9630.0   \n",
       "33             82280.0         3309.0                 14840.0   \n",
       "62             71808.0          775.0                  6933.0   \n",
       "\n",
       "     FatalitiesInDayMax  \n",
       "162               332.0  \n",
       "81                919.0  \n",
       "147               913.0  \n",
       "33                242.0  \n",
       "62                130.0  "
      ]
     },
     "execution_count": 23,
     "metadata": {},
     "output_type": "execute_result"
    }
   ],
   "source": [
    "largest_confirmed_cases.head()"
   ]
  },
  {
   "cell_type": "code",
   "execution_count": 24,
   "metadata": {},
   "outputs": [
    {
     "data": {
      "text/plain": [
       "<matplotlib.axes._subplots.AxesSubplot at 0x7f94ae8b0a20>"
      ]
     },
     "execution_count": 24,
     "metadata": {},
     "output_type": "execute_result"
    },
    {
     "data": {
      "image/png": "[encoded data removed]",
      "text/plain": [
       "<Figure size 1008x432 with 1 Axes>"
      ]
     },
     "metadata": {
      "needs_background": "light"
     },
     "output_type": "display_data"
    }
   ],
   "source": [
    "plt.figure(figsize=(14,6))\n",
    "plt.title(\"Top 10 countries with more Confirmed Cases\")\n",
    "sns.barplot(y=largest_confirmed_cases['ConfirmedCasesMax'], x=largest_confirmed_cases['Country_Region'])"
   ]
  },
  {
   "cell_type": "markdown",
   "metadata": {},
   "source": [
    "# Model 1 - RandomForestRegressor"
   ]
  },
  {
   "cell_type": "code",
   "execution_count": 25,
   "metadata": {},
   "outputs": [],
   "source": [
    "X_features = ['Date', 'Country_Region', 'Province_State']\n",
    "X = covid_train[X_features]\n",
    "\n",
    "y_cc = covid_train['ConfirmedCases']\n",
    "y_ft = covid_train['Fatalities']\n",
    "\n",
    "categorical_transformer = Pipeline(steps=[\n",
    "    ('imputer', SimpleImputer(strategy='most_frequent')),\n",
    "    ('onehot', OneHotEncoder(handle_unknown='ignore'))\n",
    "])\n",
    "\n",
    "preprocessor = ColumnTransformer(\n",
    "    transformers=[\n",
    "        ('cat', categorical_transformer, ['Country_Region', 'Province_State'])\n",
    "    ])"
   ]
  },
  {
   "cell_type": "code",
   "execution_count": 26,
   "metadata": {},
   "outputs": [
    {
     "name": "stdout",
     "output_type": "stream",
     "text": [
      "MAE to ConfirmedCases: 539.9065111758989\n",
      "MAE to Fatalities: 26.03265306122449\n"
     ]
    }
   ],
   "source": [
    "from sklearn.model_selection import train_test_split\n",
    "from sklearn.metrics import mean_absolute_error\n",
    "\n",
    "cc_pipeline = Pipeline(steps=[('preprocessor', preprocessor),\n",
    "                              ('model', RandomForestRegressor(n_estimators=100, random_state=0))\n",
    "                             ])\n",
    "\n",
    "ft_pipeline = Pipeline(steps=[('preprocessor', preprocessor),\n",
    "                              ('model', RandomForestRegressor(n_estimators=100, random_state=0))\n",
    "                             ])\n",
    "\n",
    "X_train, X_valid, y_train, y_valid = train_test_split(X, y_cc, random_state=0)\n",
    "cc_pipeline.fit(X_train, y_train)\n",
    "preds_cc = cc_pipeline.predict(X_valid).astype(int)\n",
    "\n",
    "print('MAE to ConfirmedCases:', mean_absolute_error(y_valid, preds_cc))\n",
    "\n",
    "X_train, X_valid, y_train, y_valid = train_test_split(X, y_ft, random_state=0)\n",
    "ft_pipeline.fit(X_train, y_train)\n",
    "preds_ft = ft_pipeline.predict(X_valid).astype(int)\n",
    "\n",
    "print('MAE to Fatalities:', mean_absolute_error(y_valid, preds_ft))"
   ]
  },
  {
   "cell_type": "code",
   "execution_count": 27,
   "metadata": {},
   "outputs": [],
   "source": [
    "#predict tests\n",
    "test_preds_cc = cc_pipeline.predict(covid_test[X_features])\n",
    "test_preds_ft = ft_pipeline.predict(covid_test[X_features])"
   ]
  },
  {
   "cell_type": "code",
   "execution_count": 28,
   "metadata": {},
   "outputs": [],
   "source": [
    "submission = pd.DataFrame({'ForecastId': covid_test.index,'ConfirmedCases':test_preds_cc,'Fatalities':test_preds_ft})\n",
    "filename = 'submission.csv'\n",
    "\n",
    "submission.to_csv(filename,index=False)"
   ]
  }
 ],
 "metadata": {
  "kernelspec": {
   "display_name": "Python 3",
   "language": "python",
   "name": "python3"
  },
  "language_info": {
   "codemirror_mode": {
    "name": "ipython",
    "version": 3
   },
   "file_extension": ".py",
   "mimetype": "text/x-python",
   "name": "python",
   "nbconvert_exporter": "python",
   "pygments_lexer": "ipython3",
   "version": "3.6.6"
  }
 },
 "nbformat": 4,
 "nbformat_minor": 4
}
